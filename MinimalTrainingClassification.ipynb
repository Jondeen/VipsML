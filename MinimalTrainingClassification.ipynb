{
 "cells": [
  {
   "cell_type": "code",
   "execution_count": 1,
   "metadata": {
    "ExecuteTime": {
     "end_time": "2019-03-31T15:12:50.799022Z",
     "start_time": "2019-03-31T15:12:48.517015Z"
    }
   },
   "outputs": [
    {
     "name": "stderr",
     "output_type": "stream",
     "text": [
      "Using TensorFlow backend.\n"
     ]
    }
   ],
   "source": [
    "from models import SmallerVGGNet\n",
    "import VipsML\n",
    "\n",
    "base='/mnt/z9-slide-storage/VipsML'"
   ]
  },
  {
   "cell_type": "code",
   "execution_count": 2,
   "metadata": {
    "ExecuteTime": {
     "end_time": "2019-03-31T20:52:25.625284Z",
     "start_time": "2019-03-31T15:12:52.758712Z"
    }
   },
   "outputs": [
    {
     "name": "stdout",
     "output_type": "stream",
     "text": [
      "Epoch 1/5\n",
      "1889/1889 [==============================] - 4421s 2s/step - loss: 126.9299 - val_loss: 444.0740\n",
      "Epoch 2/5\n",
      "1889/1889 [==============================] - 4231s 2s/step - loss: 60.2221 - val_loss: 126.5617\n",
      "Epoch 3/5\n",
      "1889/1889 [==============================] - 4128s 2s/step - loss: 51.8657 - val_loss: 575.1709\n",
      "Epoch 4/5\n",
      "1889/1889 [==============================] - 4074s 2s/step - loss: 45.9882 - val_loss: 350.8233\n",
      "Epoch 5/5\n",
      "1889/1889 [==============================] - 3514s 2s/step - loss: 41.4693 - val_loss: 88.5087\n"
     ]
    },
    {
     "data": {
      "text/plain": [
       "<keras.callbacks.History at 0x7f95bd3da860>"
      ]
     },
     "execution_count": 2,
     "metadata": {},
     "output_type": "execute_result"
    }
   ],
   "source": [
    "# Original images. Any VIPS-supported format of any size.\n",
    "origs=[base+'/0'+str(n)+'-orig.tif' for n in range(1,4)]\n",
    "# Annotated dataset. One channel, one colour per class (incremental from 0).\n",
    "# Any VIPS-supported format, size same as original.\n",
    "masks=[base+'/0'+str(n)+'-mask.tif' for n in range(1,4)]\n",
    "\n",
    "# Either pixel wise or pooled depending on frame_size. Here pooling 3x3 pixels.\n",
    "# meta_ratio also gives a snapshot at a lower resolution (5x) of neighboring tissue.\n",
    "images = [VipsML.VipsClassificationML(orig,mask,frame_size=3, padding=30) \n",
    "                              for orig, mask in zip(origs,masks)]\n",
    "\n",
    "# Generator takes a list of VipsML-images and wraps a supply chain for the  \n",
    "# fit_generator around it.\n",
    "generator = VipsML.VipsGroupML(images, batch_size=400)\n",
    "\n",
    "# To get sensible validation data, split dataset, keeping 10% for validation.\n",
    "# Re-shuffled after each epoch.\n",
    "trainer, validator = generator.split_generators(0.1)\n",
    "\n",
    "# Load and compile model\n",
    "model = SmallerVGGNet(generator.input_shape, generator.classes)\n",
    "model.compile(loss=\"categorical_crossentropy\", optimizer='sgd')\n",
    "\n",
    "# Fit model\n",
    "# 163s / epoch, 5x meta, new method\n",
    "# 142s / epoch, no meta, new method\n",
    "# 4421s / epoch, no meta, old method\n",
    "model.fit_generator(trainer,validation_data=validator,epochs=5)"
   ]
  }
 ],
 "metadata": {
  "kernelspec": {
   "display_name": "Python 3",
   "language": "python",
   "name": "python3"
  },
  "language_info": {
   "codemirror_mode": {
    "name": "ipython",
    "version": 3
   },
   "file_extension": ".py",
   "mimetype": "text/x-python",
   "name": "python",
   "nbconvert_exporter": "python",
   "pygments_lexer": "ipython3",
   "version": "3.6.8"
  },
  "toc": {
   "base_numbering": 1,
   "nav_menu": {},
   "number_sections": true,
   "sideBar": true,
   "skip_h1_title": false,
   "title_cell": "Table of Contents",
   "title_sidebar": "Contents",
   "toc_cell": false,
   "toc_position": {},
   "toc_section_display": true,
   "toc_window_display": false
  }
 },
 "nbformat": 4,
 "nbformat_minor": 2
}
