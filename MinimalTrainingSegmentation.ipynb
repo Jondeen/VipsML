{
 "cells": [
  {
   "cell_type": "code",
   "execution_count": null,
   "metadata": {},
   "outputs": [],
   "source": [
    "from models import SegNet\n",
    "import VipsML\n",
    "\n",
    "base='/mnt/z9-slide-storage/VipsML'"
   ]
  },
  {
   "cell_type": "code",
   "execution_count": null,
   "metadata": {},
   "outputs": [],
   "source": [
    "# Original image. Any VIPS-supported format of any size.\n",
    "origs=[base+'/00-orig.tif']\n",
    "# Annotated dataset. One channel, one colour per class (incremental from 0).\n",
    "# Any VIPS-supported format, size same as original.\n",
    "masks=[base+'/00-mask.tif']\n",
    "\n",
    "# Larger padding, more overlap, and more training from one dataset.\n",
    "# meta_ratio also gives a snapshot at a lower resolution of neighboring tissue.\n",
    "images = [VipsML.VipsSegmentationML(orig,mask,frame_size=196, padding=30, meta_ratio=3) \n",
    "                              for orig, mask in zip(origs,masks)]\n",
    "\n",
    "# Generator takes a list of VipsML-images and wraps a supply chain for the  \n",
    "# fit_generator around it.\n",
    "generator = VipsML.VipsGroupML(images, batch_size=20)\n",
    "\n",
    "# To get sensible validation data, split dataset, keeping 10% for validation.\n",
    "# Re-shuffled after each epoch.\n",
    "trainer, validator = generator.split_generators(0.1)\n",
    "\n",
    "# Load and compile model\n",
    "model = SegNet(generator.input_shape, generator.classes)\n",
    "model.compile(loss=\"categorical_crossentropy\", optimizer='sgd')\n",
    "\n",
    "# Fit model\n",
    "model.fit_generator(trainer,validation_data=validator,epochs=200)"
   ]
  }
 ],
 "metadata": {
  "kernelspec": {
   "display_name": "Python 3",
   "language": "python",
   "name": "python3"
  },
  "language_info": {
   "codemirror_mode": {
    "name": "ipython",
    "version": 3
   },
   "file_extension": ".py",
   "mimetype": "text/x-python",
   "name": "python",
   "nbconvert_exporter": "python",
   "pygments_lexer": "ipython3",
   "version": "3.6.8"
  },
  "toc": {
   "base_numbering": 1,
   "nav_menu": {},
   "number_sections": true,
   "sideBar": true,
   "skip_h1_title": false,
   "title_cell": "Table of Contents",
   "title_sidebar": "Contents",
   "toc_cell": false,
   "toc_position": {},
   "toc_section_display": true,
   "toc_window_display": false
  }
 },
 "nbformat": 4,
 "nbformat_minor": 2
}
