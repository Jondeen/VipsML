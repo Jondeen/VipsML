{
 "cells": [
  {
   "cell_type": "code",
   "execution_count": 1,
   "metadata": {
    "ExecuteTime": {
     "end_time": "2019-03-17T16:11:03.193091Z",
     "start_time": "2019-03-17T16:11:03.189303Z"
    }
   },
   "outputs": [],
   "source": [
    "thickness=20\n",
    "square=True\n",
    "image_path='/mnt/z9-slide-storage/VipsML/00-orig.tif'"
   ]
  },
  {
   "cell_type": "code",
   "execution_count": 4,
   "metadata": {},
   "outputs": [
    {
     "name": "stdout",
     "output_type": "stream",
     "text": [
      "[[(2633, 2633), (3159, 3422), (2633, 3422)], [(1579, 3159), (1448, 3159)]]\n"
     ]
    }
   ],
   "source": []
  },
  {
   "cell_type": "code",
   "execution_count": 5,
   "metadata": {},
   "outputs": [],
   "source": []
  },
  {
   "cell_type": "code",
   "execution_count": 23,
   "metadata": {
    "ExecuteTime": {
     "end_time": "2019-03-18T11:40:56.042352Z",
     "start_time": "2019-03-18T11:40:35.539357Z"
    }
   },
   "outputs": [
    {
     "name": "stdout",
     "output_type": "stream",
     "text": [
      "2901090\n"
     ]
    }
   ],
   "source": [
    "from math import atan2, pi, sin, cos, sqrt\n",
    "from time import time\n",
    "from random import random\n",
    "import numpy as np\n",
    "\n",
    "\n",
    "\n",
    "class point():\n",
    "    def __init__(self,x,y):\n",
    "        self.x = x\n",
    "        self.y = y\n",
    "    def __add__(self,ob):\n",
    "        return point(self.x+ob.x,self.y+ob.y)\n",
    "    def __neg__(self):\n",
    "        return point(-self.x,-self.y)\n",
    "    def __sub__(self,ob):\n",
    "        return ob+(-self)\n",
    "    def __truediv__(self,n):\n",
    "        return point(self.x/n,self.y/n)\n",
    "    def __str__(self):\n",
    "        return (\"x: {}, y: {}\".format(self.x,self.y))\n",
    "    def hyp(self):\n",
    "        return sqrt(self.x**2+self.y**2)\n",
    "\n",
    "class planePoints():\n",
    "    def __init__(self,xy):\n",
    "        self.x=xy[0]\n",
    "        self.y=xy[1]\n",
    "\n",
    "class Segment():\n",
    "    def __init__(self,c1,c2):\n",
    "        self.p1 = point(c1[0],c1[1])\n",
    "        self.p2 = point(c2[0],c2[1])\n",
    "        self.dx = self.p2.x-self.p1.x\n",
    "        self.dy = self.p2.y-self.p1.y\n",
    "        self.offset = 20\n",
    "        self.slope = self.dy/self.dx if self.dx != 0 else float('Inf')\n",
    "        self.angle = atan2(self.dy,self.dx)\n",
    "        self.maximas = (max(self.p1.x,self.p2.x),max(self.p1.y,self.p2.y))\n",
    "        self.minimas = (min(self.p1.x,self.p2.x),min(self.p1.y,self.p2.y))\n",
    "        self.bbox = (self.minimas[0]-self.offset,self.minimas[1]-self.offset,self.maximas[0]-self.minimas[0]+(2*self.offset),self.maximas[1]-self.minimas[1]+(2*self.offset))\n",
    "    def testPoints(self,xy):\n",
    "        p1=self.p1\n",
    "        p2=self.p2\n",
    "        p3=planePoints(xy.crop(*self.bbox))\n",
    "        p4=planePoints([p3.x+self.dy,p3.y-self.dx])\n",
    "        x=(((p1.x*p2.y-p1.y*p2.x)*(p3.x-p4.x)-(p1.x-p2.x)*(p3.x*p4.y-p3.y*p4.x)))/((p1.x-p2.x)*(p3.y-p4.y)-(p1.y-p2.y)*(p3.x-p4.x))\n",
    "        y=(((p1.x*p2.y-p1.y*p2.x)*(p3.y-p4.y)-(p1.y-p2.y)*(p3.x*p4.y-p3.y*p4.x)))/((p1.x-p2.x)*(p3.y-p4.y)-(p1.y-p2.y)*(p3.x-p4.x))\n",
    "        xmin=min(p1.x,p2.x)\n",
    "        xmax=max(p1.x,p2.x)\n",
    "        dx=p3.x-x\n",
    "        dy=p3.y-y        \n",
    "        result= (x<=xmax) & (x>=xmin) & (((dx**2+dy**2)**0.5)<self.offset)\n",
    "        dx1 = p3.x-p1.x\n",
    "        dy1 = p3.y-p1.y\n",
    "        dx2 = p3.x-p2.x\n",
    "        dy2 = p3.y-p2.y\n",
    "        result |= (((dx1**2+dy1**2)**0.5)<self.offset) | (((dx2**2+dy2**2)**0.5)<self.offset)\n",
    "        return result\n",
    "\n",
    "import pyvips as Vips\n",
    "\n",
    "anns=[[(0.5,0.5),(0.6,0.6),(0.5,0.65)],[(0.3,0.6),(0.4,0.8),(0.75,0.75),(0.65,0.25)]]\n",
    "\n",
    "im=Vips.Image.new_from_file(image_path).resize(10.25)\n",
    "pix_anns=[[(int(x*im.width),int(y*im.width)) for x,y in poly] for poly in anns]\n",
    "\n",
    "xyz=Vips.Image.xyz(im.width,im.height)\n",
    "\n",
    "smart = random()>0.5\n",
    "t0=time()\n",
    "black=Vips.Image.black(im.width,im.height)\n",
    "paint=Vips.Image.black(im.width,im.height)\n",
    "results = [np.array([]),np.array([])]\n",
    "\n",
    "for i in range(len(pix_anns)):\n",
    "    for j in range(len(pix_anns[i])-1):\n",
    "        segment=Segment(pix_anns[i][j],pix_anns[i][j+1])\n",
    "        xs, ys, _ = np.where(toNp8(segment.testPoints(xyz)))\n",
    "        \n",
    "        results[0] = np.append(results[0],xs+segment.bbox[0])\n",
    "        results[1] = np.append(results[1],ys+segment.bbox[1])\n",
    "        #paint_segment|=segment.testPoints(xyz)\n",
    "        #paint=paint.insert(paint_segment,\n",
    "        #                   segment.bbox[0],\n",
    "        #                   segment.bbox[1])\n",
    "        \n",
    "print(len(results[1]))\n",
    "#for x in range(im.width):\n",
    "#    for y in range(im.height):\n",
    "#        if region.fetch(x,y,1,1)[0] == pos:\n",
    "#            results += [(x,y)]\n",
    "#for _ in range(25):\n",
    "#    testCopy(result_array)\n",
    "#print(sum(result_array[0])/len(result_array[0]),sum(result_array[1])/len(result_array[1]))"
   ]
  },
  {
   "cell_type": "code",
   "execution_count": 7,
   "metadata": {},
   "outputs": [],
   "source": [
    "xyz=vips.Image.xyz(100,100)\n",
    "pix_anns=[[(int(x*100),int(y*100)) for x,y in poly] for poly in anns]"
   ]
  },
  {
   "cell_type": "code",
   "execution_count": 2,
   "metadata": {
    "ExecuteTime": {
     "end_time": "2019-03-17T16:11:06.213314Z",
     "start_time": "2019-03-17T16:11:05.820412Z"
    }
   },
   "outputs": [],
   "source": [
    "from numpy import frombuffer, uint32, uint8,float32, squeeze\n",
    "from matplotlib.pyplot import imshow, figure\n",
    "\n",
    "def toNp8(im):\n",
    "    return frombuffer(im.write_to_memory(), dtype=uint8).reshape(im.height, im.width, im.bands)\n",
    "def toNp32(im):\n",
    "    return frombuffer(im.write_to_memory(), dtype=uint32).reshape(im.height, im.width, im.bands)\n",
    "def toNpFloat(im):\n",
    "    return frombuffer(im.write_to_memory(), dtype=float32).reshape(im.height, im.width, im.bands)\n",
    "\n",
    "def show(img):\n",
    "    figure()\n",
    "    print(img.format)\n",
    "    conv=toNp8\n",
    "    if img.format == 'float':\n",
    "        conv=toNpFloat\n",
    "    imshow(squeeze(conv(img),axis=2) if img.bands==1 else conv(img))#,origin='lower')\n",
    "\n"
   ]
  },
  {
   "cell_type": "code",
   "execution_count": 167,
   "metadata": {},
   "outputs": [
    {
     "ename": "ValueError",
     "evalue": "invalid literal for int() with base 10: 'Inf'",
     "output_type": "error",
     "traceback": [
      "\u001b[0;31m---------------------------------------------------------------------------\u001b[0m",
      "\u001b[0;31mValueError\u001b[0m                                Traceback (most recent call last)",
      "\u001b[0;32m<ipython-input-167-febf1f0e5826>\u001b[0m in \u001b[0;36m<module>\u001b[0;34m\u001b[0m\n\u001b[0;32m----> 1\u001b[0;31m \u001b[0;36m1\u001b[0m\u001b[0;34m/\u001b[0m\u001b[0mint\u001b[0m\u001b[0;34m(\u001b[0m\u001b[0;34m'Inf'\u001b[0m\u001b[0;34m)\u001b[0m\u001b[0;34m\u001b[0m\u001b[0;34m\u001b[0m\u001b[0m\n\u001b[0m",
      "\u001b[0;31mValueError\u001b[0m: invalid literal for int() with base 10: 'Inf'"
     ]
    }
   ],
   "source": [
    "1/int('Inf')"
   ]
  },
  {
   "cell_type": "code",
   "execution_count": null,
   "metadata": {},
   "outputs": [],
   "source": []
  }
 ],
 "metadata": {
  "kernelspec": {
   "display_name": "Python 3",
   "language": "python",
   "name": "python3"
  },
  "language_info": {
   "codemirror_mode": {
    "name": "ipython",
    "version": 3
   },
   "file_extension": ".py",
   "mimetype": "text/x-python",
   "name": "python",
   "nbconvert_exporter": "python",
   "pygments_lexer": "ipython3",
   "version": "3.6.8"
  },
  "toc": {
   "base_numbering": 1,
   "nav_menu": {},
   "number_sections": true,
   "sideBar": true,
   "skip_h1_title": false,
   "title_cell": "Table of Contents",
   "title_sidebar": "Contents",
   "toc_cell": false,
   "toc_position": {},
   "toc_section_display": true,
   "toc_window_display": false
  }
 },
 "nbformat": 4,
 "nbformat_minor": 2
}
